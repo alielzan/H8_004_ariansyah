{
 "cells": [
  {
   "cell_type": "code",
   "execution_count": 3,
   "source": [
    "from numpy import array \r\n",
    "T = array([ [[23,50], [7,12]], [[57,67], [99,43]], [[75,21], [57,12]], [[87,26],[18,84]] ]) \r\n",
    "print(T.shape)\r\n",
    "print(T)"
   ],
   "outputs": [
    {
     "output_type": "stream",
     "name": "stdout",
     "text": [
      "(4, 2, 2)\n",
      "[[[23 50]\n",
      "  [ 7 12]]\n",
      "\n",
      " [[57 67]\n",
      "  [99 43]]\n",
      "\n",
      " [[75 21]\n",
      "  [57 12]]\n",
      "\n",
      " [[87 26]\n",
      "  [18 84]]]\n"
     ]
    }
   ],
   "metadata": {}
  },
  {
   "cell_type": "code",
   "execution_count": 6,
   "source": [
    "a = array([[23, 50, 19], [7, 12, 109], [57, 67, 98]]) \r\n",
    "b = array([17, 22, 19])\r\n",
    "c = a * b\r\n",
    "print(c)"
   ],
   "outputs": [
    {
     "output_type": "stream",
     "name": "stdout",
     "text": [
      "[[ 391 1100  361]\n",
      " [ 119  264 2071]\n",
      " [ 969 1474 1862]]\n"
     ]
    }
   ],
   "metadata": {}
  },
  {
   "cell_type": "code",
   "execution_count": 7,
   "source": [
    "x = array([[23, 50, 19], [7, 12, 109], [57, 67, 98]]) \r\n",
    "y = x.T \r\n",
    "print(y)"
   ],
   "outputs": [
    {
     "output_type": "stream",
     "name": "stdout",
     "text": [
      "[[ 23   7  57]\n",
      " [ 50  12  67]\n",
      " [ 19 109  98]]\n"
     ]
    }
   ],
   "metadata": {}
  }
 ],
 "metadata": {
  "orig_nbformat": 4,
  "language_info": {
   "name": "python",
   "version": "3.9.7",
   "mimetype": "text/x-python",
   "codemirror_mode": {
    "name": "ipython",
    "version": 3
   },
   "pygments_lexer": "ipython3",
   "nbconvert_exporter": "python",
   "file_extension": ".py"
  },
  "kernelspec": {
   "name": "python3",
   "display_name": "Python 3.9.7 64-bit"
  },
  "interpreter": {
   "hash": "bc47e38d2dee95273a4d3d6b3a03f02b0162ac1b23f1a6ab0de5717e9cbc9e85"
  }
 },
 "nbformat": 4,
 "nbformat_minor": 2
}