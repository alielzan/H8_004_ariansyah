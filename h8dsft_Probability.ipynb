{
 "cells": [
  {
   "cell_type": "code",
   "execution_count": 1,
   "source": [
    "%matplotlib inline\r\n",
    "import random\r\n",
    "\r\n",
    "# Create a list with 2 element (for heads and tails)\r\n",
    "heads_tails = [0,1]\r\n",
    "\r\n",
    "# loop through 10000 trials\r\n",
    "trials = 50000\r\n",
    "trial = 0\r\n",
    "while trial < trials:\r\n",
    "    trial = trial + 1\r\n",
    "    # Get a random 0 or 1\r\n",
    "    toss = random.randint(0,1)\r\n",
    "    # Increment the list element corresponding to the toss result\r\n",
    "    heads_tails[toss] = heads_tails[toss] + 1\r\n",
    "\r\n",
    "print (heads_tails)\r\n",
    "\r\n",
    "# Show a pie chart of the results\r\n",
    "from matplotlib import pyplot as plt\r\n",
    "plt.figure(figsize=(5,5))\r\n",
    "plt.pie(heads_tails, labels=['heads', 'tails'])\r\n",
    "plt.legend()\r\n",
    "plt.show()"
   ],
   "outputs": [
    {
     "output_type": "stream",
     "name": "stdout",
     "text": [
      "[25293, 24708]\n"
     ]
    },
    {
     "output_type": "display_data",
     "data": {
      "image/png": "[encoded data removed]",
      "text/plain": [
       "<Figure size 360x360 with 1 Axes>"
      ]
     },
     "metadata": {}
    }
   ],
   "metadata": {}
  }
 ],
 "metadata": {
  "orig_nbformat": 4,
  "language_info": {
   "name": "python",
   "version": "3.9.7",
   "mimetype": "text/x-python",
   "codemirror_mode": {
    "name": "ipython",
    "version": 3
   },
   "pygments_lexer": "ipython3",
   "nbconvert_exporter": "python",
   "file_extension": ".py"
  },
  "kernelspec": {
   "name": "python3",
   "display_name": "Python 3.9.7 64-bit"
  },
  "interpreter": {
   "hash": "bc47e38d2dee95273a4d3d6b3a03f02b0162ac1b23f1a6ab0de5717e9cbc9e85"
  }
 },
 "nbformat": 4,
 "nbformat_minor": 2
}