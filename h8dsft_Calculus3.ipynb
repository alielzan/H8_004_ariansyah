{
 "cells": [
  {
   "cell_type": "code",
   "execution_count": 3,
   "source": [
    "import sympy as sy\r\n",
    "\r\n",
    "x,y,z = sy.symbols(\"x y z\")\r\n",
    "f = 3*x + 4*y - 5\r\n",
    "# a,b,c = sy.symbols(\"a b c\")\r\n",
    "# f = 4*a*b + a*sy.sin(c) + a**3 + c**8*b\r\n",
    "\r\n",
    "# f_diff_a = sy.diff(f,a)\r\n",
    "# f_diff_a\r\n",
    "print('turunan terhadap x', sy.diff(f,x))\r\n",
    "print('turunan terhadap y', sy.diff(f,y))\r\n",
    "print('turunan terhadap z', sy.diff(f,z))\r\n"
   ],
   "outputs": [
    {
     "output_type": "stream",
     "name": "stdout",
     "text": [
      "turunan terhadap x 3\n",
      "turunan terhadap y 4\n",
      "turunan terhadap z 0\n"
     ]
    }
   ],
   "metadata": {}
  },
  {
   "cell_type": "code",
   "execution_count": 4,
   "source": [
    "from sympy.tensor.array import derive_by_array\r\n",
    "\r\n",
    "x,y,z = sy.symbols(\"x y z\")\r\n",
    "f = 3*x + 4*y - 5\r\n",
    "\r\n",
    "vec_turunan = derive_by_array(f, (x,y,z))\r\n",
    "print(vec_turunan[0])\r\n",
    "print(vec_turunan[1])\r\n",
    "print(vec_turunan[2])"
   ],
   "outputs": [
    {
     "output_type": "stream",
     "name": "stdout",
     "text": [
      "3\n",
      "4\n",
      "0\n",
      "[3, 4, 0]\n"
     ]
    }
   ],
   "metadata": {}
  }
 ],
 "metadata": {
  "orig_nbformat": 4,
  "language_info": {
   "name": "python",
   "version": "3.9.7",
   "mimetype": "text/x-python",
   "codemirror_mode": {
    "name": "ipython",
    "version": 3
   },
   "pygments_lexer": "ipython3",
   "nbconvert_exporter": "python",
   "file_extension": ".py"
  },
  "kernelspec": {
   "name": "python3",
   "display_name": "Python 3.9.7 64-bit"
  },
  "interpreter": {
   "hash": "bc47e38d2dee95273a4d3d6b3a03f02b0162ac1b23f1a6ab0de5717e9cbc9e85"
  }
 },
 "nbformat": 4,
 "nbformat_minor": 2
}